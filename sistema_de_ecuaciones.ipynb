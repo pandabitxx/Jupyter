{
 "cells": [
  {
   "cell_type": "code",
   "execution_count": 1,
   "metadata": {},
   "outputs": [
    {
     "name": "stdout",
     "output_type": "stream",
     "text": [
      "{x: 40, y: 20, z: 80}\n"
     ]
    }
   ],
   "source": [
    "import sympy as sp\n",
    "\n",
    "# Definir las variables del sistema de ecuaciones\n",
    "x, y, z = sp.symbols('x y z')\n",
    "\n",
    "# Definir las ecuaciones del sistema de ecuaciones\n",
    "eq1 = sp.Eq(x + y + z, 140)\n",
    "eq2 = sp.Eq(3*x + 4*y + 8*z, 6*140)\n",
    "eq3 = sp.Eq(x, 2*y)\n",
    "\n",
    "# Resolver el sistema de ecuaciones\n",
    "sol = sp.solve((eq1, eq2, eq3), (x, y, z))\n",
    "\n",
    "# Imprimir las soluciones del sistema de ecuaciones\n",
    "print(sol)"
   ]
  }
 ],
 "metadata": {
  "kernelspec": {
   "display_name": "Python 3",
   "language": "python",
   "name": "python3"
  },
  "language_info": {
   "codemirror_mode": {
    "name": "ipython",
    "version": 3
   },
   "file_extension": ".py",
   "mimetype": "text/x-python",
   "name": "python",
   "nbconvert_exporter": "python",
   "pygments_lexer": "ipython3",
   "version": "3.11.3"
  },
  "orig_nbformat": 4
 },
 "nbformat": 4,
 "nbformat_minor": 2
}
