{
  "cells": [
    {
      "cell_type": "markdown",
      "metadata": {
        "id": "ss5V1VfoAhc-"
      },
      "source": [
        "# Exploración de datos\n",
        "**Medidas de tendencia central**"
      ]
    },
    {
      "cell_type": "markdown",
      "metadata": {
        "id": "fyVRmgndDkB0"
      },
      "source": [
        "## 1. Primero un momento para entender Colab"
      ]
    },
    {
      "cell_type": "markdown",
      "metadata": {
        "id": "h5T6AjFzDncW"
      },
      "source": [
        "\n",
        "\n",
        "*   Podemos mezclar texto, código e imágenes: podemos mostrar al mismo tiempo análisis y resultados de forma ordenada\n",
        "*   Para agregar celdas podemos hacer clic en **+ Code** o en **+ Text** en la parte superior de la ventana\n",
        "*   Celdas de código consideran lo que hayamos corrido antes\n",
        "*   Podemos contraer las secciones con la flechita a la izquierda de los títulos\n",
        "*   Usamos Python en Google Colab\n",
        "*   Para ejecutar una celda le damos ▶️ También podemos usar **Ctrl+Enter** para ejecutar o bien **Alt+Enter** para ejecutar y crear nueva celda.\n",
        "*   Para usar Google Colab en esta clase:\n",
        "\n",
        "\n",
        "      1.   Iniciamos sesión en nuestra cuenta de google\n",
        "      2.   Ingresamos al enlace del cuadernillo compartido\n",
        "      2.   Vamos a File > Save a copy in Drive \n",
        "      (Archivo > Guardar una copia en Drive)\n",
        "\n",
        "¡Ya podemos comenzar a correr código y guardarlo con tranquilidad!\n",
        "\n",
        "\n",
        "\n"
      ]
    },
    {
      "cell_type": "markdown",
      "metadata": {
        "id": "1wT0BNy4FXaU"
      },
      "source": [
        "**Ejercicio**: Ejecuten la siguiente celda de código para ver el resultado."
      ]
    },
    {
      "cell_type": "code",
      "execution_count": 5,
      "metadata": {
        "id": "oxAgYUl3DmhI"
      },
      "outputs": [
        {
          "name": "stdout",
          "output_type": "stream",
          "text": [
            "¡Hola mundo!\n"
          ]
        }
      ],
      "source": [
        "print('¡Hola mundo!')"
      ]
    },
    {
      "cell_type": "markdown",
      "metadata": {
        "id": "SEsFnTinF02E"
      },
      "source": [
        "## 2. Carga de datos"
      ]
    },
    {
      "cell_type": "markdown",
      "metadata": {
        "id": "V78WX9Z6otlR"
      },
      "source": [
        "Para trabajar con datos en Python usamos un paquete llamado Pandas. Para usarlo hay que importarlo:"
      ]
    },
    {
      "cell_type": "code",
      "execution_count": 6,
      "metadata": {
        "id": "Rcki6yeyoysK"
      },
      "outputs": [],
      "source": [
        "import pandas as pd"
      ]
    },
    {
      "cell_type": "code",
      "execution_count": 7,
      "metadata": {
        "id": "-psOmEwvF4Vw"
      },
      "outputs": [],
      "source": [
        "# Adaptado de: https://www.datasciencemadesimple.com/create-frequency-table-of-column-in-pandas-python-2/\n",
        "sinProcesar = {'Compra':['Caja','Botella','Esfero','Marcador','Botella','Esfero','Marcador','Botella','Caja','Marcador','Marcador','Esfero'],\n",
        "              'Estado':['Alaska','California','Texas','North Carolina','California','Texas','Alaska','Texas','North Carolina','Alaska','California','Texas'],\n",
        "              'Cantidad':[14,24,31,12,13,7,9,31,18,16,18,14]}\n",
        "datos = pd.DataFrame(sinProcesar)"
      ]
    },
    {
      "cell_type": "code",
      "execution_count": 8,
      "metadata": {},
      "outputs": [
        {
          "data": {
            "text/plain": [
              "(12, 3)"
            ]
          },
          "execution_count": 8,
          "metadata": {},
          "output_type": "execute_result"
        }
      ],
      "source": [
        "datos.shape"
      ]
    },
    {
      "cell_type": "code",
      "execution_count": 9,
      "metadata": {},
      "outputs": [
        {
          "data": {
            "text/plain": [
              "Compra\n",
              "Marcador    0.333333\n",
              "Botella     0.250000\n",
              "Esfero      0.250000\n",
              "Caja        0.166667\n",
              "Name: proportion, dtype: float64"
            ]
          },
          "execution_count": 9,
          "metadata": {},
          "output_type": "execute_result"
        }
      ],
      "source": [
        "datos.value_counts('Compra', normalize=True)"
      ]
    },
    {
      "cell_type": "markdown",
      "metadata": {
        "id": "LC4rIYyQq5Ae"
      },
      "source": [
        "Tenemos una base de datos de compras."
      ]
    },
    {
      "cell_type": "code",
      "execution_count": 10,
      "metadata": {
        "id": "AWeuApuqF6G4"
      },
      "outputs": [
        {
          "data": {
            "text/html": [
              "<div>\n",
              "<style scoped>\n",
              "    .dataframe tbody tr th:only-of-type {\n",
              "        vertical-align: middle;\n",
              "    }\n",
              "\n",
              "    .dataframe tbody tr th {\n",
              "        vertical-align: top;\n",
              "    }\n",
              "\n",
              "    .dataframe thead th {\n",
              "        text-align: right;\n",
              "    }\n",
              "</style>\n",
              "<table border=\"1\" class=\"dataframe\">\n",
              "  <thead>\n",
              "    <tr style=\"text-align: right;\">\n",
              "      <th></th>\n",
              "      <th>Compra</th>\n",
              "      <th>Estado</th>\n",
              "      <th>Cantidad</th>\n",
              "    </tr>\n",
              "  </thead>\n",
              "  <tbody>\n",
              "    <tr>\n",
              "      <th>0</th>\n",
              "      <td>Caja</td>\n",
              "      <td>Alaska</td>\n",
              "      <td>14</td>\n",
              "    </tr>\n",
              "    <tr>\n",
              "      <th>1</th>\n",
              "      <td>Botella</td>\n",
              "      <td>California</td>\n",
              "      <td>24</td>\n",
              "    </tr>\n",
              "    <tr>\n",
              "      <th>2</th>\n",
              "      <td>Esfero</td>\n",
              "      <td>Texas</td>\n",
              "      <td>31</td>\n",
              "    </tr>\n",
              "    <tr>\n",
              "      <th>3</th>\n",
              "      <td>Marcador</td>\n",
              "      <td>North Carolina</td>\n",
              "      <td>12</td>\n",
              "    </tr>\n",
              "    <tr>\n",
              "      <th>4</th>\n",
              "      <td>Botella</td>\n",
              "      <td>California</td>\n",
              "      <td>13</td>\n",
              "    </tr>\n",
              "    <tr>\n",
              "      <th>5</th>\n",
              "      <td>Esfero</td>\n",
              "      <td>Texas</td>\n",
              "      <td>7</td>\n",
              "    </tr>\n",
              "    <tr>\n",
              "      <th>6</th>\n",
              "      <td>Marcador</td>\n",
              "      <td>Alaska</td>\n",
              "      <td>9</td>\n",
              "    </tr>\n",
              "    <tr>\n",
              "      <th>7</th>\n",
              "      <td>Botella</td>\n",
              "      <td>Texas</td>\n",
              "      <td>31</td>\n",
              "    </tr>\n",
              "    <tr>\n",
              "      <th>8</th>\n",
              "      <td>Caja</td>\n",
              "      <td>North Carolina</td>\n",
              "      <td>18</td>\n",
              "    </tr>\n",
              "    <tr>\n",
              "      <th>9</th>\n",
              "      <td>Marcador</td>\n",
              "      <td>Alaska</td>\n",
              "      <td>16</td>\n",
              "    </tr>\n",
              "    <tr>\n",
              "      <th>10</th>\n",
              "      <td>Marcador</td>\n",
              "      <td>California</td>\n",
              "      <td>18</td>\n",
              "    </tr>\n",
              "    <tr>\n",
              "      <th>11</th>\n",
              "      <td>Esfero</td>\n",
              "      <td>Texas</td>\n",
              "      <td>14</td>\n",
              "    </tr>\n",
              "  </tbody>\n",
              "</table>\n",
              "</div>"
            ],
            "text/plain": [
              "      Compra          Estado  Cantidad\n",
              "0       Caja          Alaska        14\n",
              "1    Botella      California        24\n",
              "2     Esfero           Texas        31\n",
              "3   Marcador  North Carolina        12\n",
              "4    Botella      California        13\n",
              "5     Esfero           Texas         7\n",
              "6   Marcador          Alaska         9\n",
              "7    Botella           Texas        31\n",
              "8       Caja  North Carolina        18\n",
              "9   Marcador          Alaska        16\n",
              "10  Marcador      California        18\n",
              "11    Esfero           Texas        14"
            ]
          },
          "metadata": {},
          "output_type": "display_data"
        }
      ],
      "source": [
        "# Observamos la tabla\n",
        "display(datos)"
      ]
    },
    {
      "cell_type": "code",
      "execution_count": 1,
      "metadata": {},
      "outputs": [
        {
          "ename": "NameError",
          "evalue": "name 'datos' is not defined",
          "output_type": "error",
          "traceback": [
            "\u001b[1;31m---------------------------------------------------------------------------\u001b[0m",
            "\u001b[1;31mNameError\u001b[0m                                 Traceback (most recent call last)",
            "Cell \u001b[1;32mIn[1], line 1\u001b[0m\n\u001b[1;32m----> 1\u001b[0m datos\u001b[39m.\u001b[39mdescribe\n",
            "\u001b[1;31mNameError\u001b[0m: name 'datos' is not defined"
          ]
        }
      ],
      "source": [
        "datos.describe()\n"
      ]
    },
    {
      "cell_type": "code",
      "execution_count": 12,
      "metadata": {},
      "outputs": [
        {
          "data": {
            "text/html": [
              "<div>\n",
              "<style scoped>\n",
              "    .dataframe tbody tr th:only-of-type {\n",
              "        vertical-align: middle;\n",
              "    }\n",
              "\n",
              "    .dataframe tbody tr th {\n",
              "        vertical-align: top;\n",
              "    }\n",
              "\n",
              "    .dataframe thead th {\n",
              "        text-align: right;\n",
              "    }\n",
              "</style>\n",
              "<table border=\"1\" class=\"dataframe\">\n",
              "  <thead>\n",
              "    <tr style=\"text-align: right;\">\n",
              "      <th></th>\n",
              "      <th>Compra</th>\n",
              "      <th>Estado</th>\n",
              "      <th>Cantidad</th>\n",
              "    </tr>\n",
              "  </thead>\n",
              "  <tbody>\n",
              "    <tr>\n",
              "      <th>3</th>\n",
              "      <td>Marcador</td>\n",
              "      <td>North Carolina</td>\n",
              "      <td>12</td>\n",
              "    </tr>\n",
              "    <tr>\n",
              "      <th>6</th>\n",
              "      <td>Marcador</td>\n",
              "      <td>Alaska</td>\n",
              "      <td>9</td>\n",
              "    </tr>\n",
              "    <tr>\n",
              "      <th>9</th>\n",
              "      <td>Marcador</td>\n",
              "      <td>Alaska</td>\n",
              "      <td>16</td>\n",
              "    </tr>\n",
              "    <tr>\n",
              "      <th>10</th>\n",
              "      <td>Marcador</td>\n",
              "      <td>California</td>\n",
              "      <td>18</td>\n",
              "    </tr>\n",
              "  </tbody>\n",
              "</table>\n",
              "</div>"
            ],
            "text/plain": [
              "      Compra          Estado  Cantidad\n",
              "3   Marcador  North Carolina        12\n",
              "6   Marcador          Alaska         9\n",
              "9   Marcador          Alaska        16\n",
              "10  Marcador      California        18"
            ]
          },
          "execution_count": 12,
          "metadata": {},
          "output_type": "execute_result"
        }
      ],
      "source": [
        "#seleccionar solo una categoría \n",
        "t = datos[datos['Compra'] == 'Marcador']\n",
        "t"
      ]
    },
    {
      "cell_type": "code",
      "execution_count": 13,
      "metadata": {},
      "outputs": [
        {
          "data": {
            "text/plain": [
              "Compra      12\n",
              "Estado      12\n",
              "Cantidad    12\n",
              "dtype: int64"
            ]
          },
          "execution_count": 13,
          "metadata": {},
          "output_type": "execute_result"
        }
      ],
      "source": [
        "datos.count()"
      ]
    },
    {
      "cell_type": "code",
      "execution_count": 14,
      "metadata": {},
      "outputs": [
        {
          "data": {
            "text/html": [
              "<div>\n",
              "<style scoped>\n",
              "    .dataframe tbody tr th:only-of-type {\n",
              "        vertical-align: middle;\n",
              "    }\n",
              "\n",
              "    .dataframe tbody tr th {\n",
              "        vertical-align: top;\n",
              "    }\n",
              "\n",
              "    .dataframe thead th {\n",
              "        text-align: right;\n",
              "    }\n",
              "</style>\n",
              "<table border=\"1\" class=\"dataframe\">\n",
              "  <thead>\n",
              "    <tr style=\"text-align: right;\">\n",
              "      <th></th>\n",
              "      <th>Compra</th>\n",
              "      <th>Estado</th>\n",
              "      <th>Cantidad</th>\n",
              "    </tr>\n",
              "  </thead>\n",
              "  <tbody>\n",
              "    <tr>\n",
              "      <th>2</th>\n",
              "      <td>Esfero</td>\n",
              "      <td>Texas</td>\n",
              "      <td>31</td>\n",
              "    </tr>\n",
              "    <tr>\n",
              "      <th>7</th>\n",
              "      <td>Botella</td>\n",
              "      <td>Texas</td>\n",
              "      <td>31</td>\n",
              "    </tr>\n",
              "    <tr>\n",
              "      <th>1</th>\n",
              "      <td>Botella</td>\n",
              "      <td>California</td>\n",
              "      <td>24</td>\n",
              "    </tr>\n",
              "    <tr>\n",
              "      <th>8</th>\n",
              "      <td>Caja</td>\n",
              "      <td>North Carolina</td>\n",
              "      <td>18</td>\n",
              "    </tr>\n",
              "    <tr>\n",
              "      <th>10</th>\n",
              "      <td>Marcador</td>\n",
              "      <td>California</td>\n",
              "      <td>18</td>\n",
              "    </tr>\n",
              "    <tr>\n",
              "      <th>9</th>\n",
              "      <td>Marcador</td>\n",
              "      <td>Alaska</td>\n",
              "      <td>16</td>\n",
              "    </tr>\n",
              "    <tr>\n",
              "      <th>0</th>\n",
              "      <td>Caja</td>\n",
              "      <td>Alaska</td>\n",
              "      <td>14</td>\n",
              "    </tr>\n",
              "    <tr>\n",
              "      <th>11</th>\n",
              "      <td>Esfero</td>\n",
              "      <td>Texas</td>\n",
              "      <td>14</td>\n",
              "    </tr>\n",
              "    <tr>\n",
              "      <th>4</th>\n",
              "      <td>Botella</td>\n",
              "      <td>California</td>\n",
              "      <td>13</td>\n",
              "    </tr>\n",
              "    <tr>\n",
              "      <th>3</th>\n",
              "      <td>Marcador</td>\n",
              "      <td>North Carolina</td>\n",
              "      <td>12</td>\n",
              "    </tr>\n",
              "    <tr>\n",
              "      <th>6</th>\n",
              "      <td>Marcador</td>\n",
              "      <td>Alaska</td>\n",
              "      <td>9</td>\n",
              "    </tr>\n",
              "    <tr>\n",
              "      <th>5</th>\n",
              "      <td>Esfero</td>\n",
              "      <td>Texas</td>\n",
              "      <td>7</td>\n",
              "    </tr>\n",
              "  </tbody>\n",
              "</table>\n",
              "</div>"
            ],
            "text/plain": [
              "      Compra          Estado  Cantidad\n",
              "2     Esfero           Texas        31\n",
              "7    Botella           Texas        31\n",
              "1    Botella      California        24\n",
              "8       Caja  North Carolina        18\n",
              "10  Marcador      California        18\n",
              "9   Marcador          Alaska        16\n",
              "0       Caja          Alaska        14\n",
              "11    Esfero           Texas        14\n",
              "4    Botella      California        13\n",
              "3   Marcador  North Carolina        12\n",
              "6   Marcador          Alaska         9\n",
              "5     Esfero           Texas         7"
            ]
          },
          "execution_count": 14,
          "metadata": {},
          "output_type": "execute_result"
        }
      ],
      "source": [
        "#sort_values()\n",
        "temporal = datos.sort_values(by='Cantidad', ascending=False)\n",
        "temporal"
      ]
    },
    {
      "cell_type": "markdown",
      "metadata": {
        "id": "Bz2hyCHRGMhq"
      },
      "source": [
        "## 3. Estadísticos y visualización"
      ]
    },
    {
      "cell_type": "code",
      "execution_count": 15,
      "metadata": {
        "id": "oLwEpBgUqkGU"
      },
      "outputs": [
        {
          "data": {
            "text/plain": [
              "Compra\n",
              "Marcador    4\n",
              "Botella     3\n",
              "Esfero      3\n",
              "Caja        2\n",
              "Name: count, dtype: int64"
            ]
          },
          "execution_count": 15,
          "metadata": {},
          "output_type": "execute_result"
        }
      ],
      "source": [
        "# Tabla de frecuencias:\n",
        "datos.Compra.value_counts()"
      ]
    },
    {
      "cell_type": "code",
      "execution_count": 16,
      "metadata": {},
      "outputs": [
        {
          "data": {
            "text/plain": [
              "Compra\n",
              "Marcador    4\n",
              "Botella     3\n",
              "Esfero      3\n",
              "Caja        2\n",
              "Name: count, dtype: int64"
            ]
          },
          "execution_count": 16,
          "metadata": {},
          "output_type": "execute_result"
        }
      ],
      "source": [
        "datos.value_counts('Compra')"
      ]
    },
    {
      "cell_type": "code",
      "execution_count": 17,
      "metadata": {},
      "outputs": [
        {
          "data": {
            "text/html": [
              "<div>\n",
              "<style scoped>\n",
              "    .dataframe tbody tr th:only-of-type {\n",
              "        vertical-align: middle;\n",
              "    }\n",
              "\n",
              "    .dataframe tbody tr th {\n",
              "        vertical-align: top;\n",
              "    }\n",
              "\n",
              "    .dataframe thead th {\n",
              "        text-align: right;\n",
              "    }\n",
              "</style>\n",
              "<table border=\"1\" class=\"dataframe\">\n",
              "  <thead>\n",
              "    <tr style=\"text-align: right;\">\n",
              "      <th></th>\n",
              "      <th>Compra</th>\n",
              "      <th>count</th>\n",
              "    </tr>\n",
              "  </thead>\n",
              "  <tbody>\n",
              "    <tr>\n",
              "      <th>0</th>\n",
              "      <td>Marcador</td>\n",
              "      <td>4</td>\n",
              "    </tr>\n",
              "    <tr>\n",
              "      <th>1</th>\n",
              "      <td>Botella</td>\n",
              "      <td>3</td>\n",
              "    </tr>\n",
              "    <tr>\n",
              "      <th>2</th>\n",
              "      <td>Esfero</td>\n",
              "      <td>3</td>\n",
              "    </tr>\n",
              "    <tr>\n",
              "      <th>3</th>\n",
              "      <td>Caja</td>\n",
              "      <td>2</td>\n",
              "    </tr>\n",
              "  </tbody>\n",
              "</table>\n",
              "</div>"
            ],
            "text/plain": [
              "     Compra  count\n",
              "0  Marcador      4\n",
              "1   Botella      3\n",
              "2    Esfero      3\n",
              "3      Caja      2"
            ]
          },
          "execution_count": 17,
          "metadata": {},
          "output_type": "execute_result"
        }
      ],
      "source": [
        "datos.value_counts('Compra').reset_index() #Lo convierte en un dataFrame de una columna"
      ]
    },
    {
      "cell_type": "code",
      "execution_count": null,
      "metadata": {},
      "outputs": [],
      "source": []
    },
    {
      "cell_type": "markdown",
      "metadata": {
        "id": "D3YCJfLnqpBX"
      },
      "source": [
        "¿Cómo se interpretan estos valores?\n",
        "\n",
        "RTA: Número de compras que incluyeron cada producto (no número total vendido)."
      ]
    },
    {
      "cell_type": "code",
      "execution_count": 18,
      "metadata": {
        "id": "D41CsSXEGTPJ"
      },
      "outputs": [
        {
          "data": {
            "text/plain": [
              "17.25"
            ]
          },
          "execution_count": 18,
          "metadata": {},
          "output_type": "execute_result"
        }
      ],
      "source": [
        "# Media (promedio)\n",
        "# La cantidad de artículos promedio que compran las personas\n",
        "datos.Cantidad.mean()"
      ]
    },
    {
      "cell_type": "code",
      "execution_count": 19,
      "metadata": {
        "id": "jwq483OvGX55"
      },
      "outputs": [
        {
          "data": {
            "text/plain": [
              "15.0"
            ]
          },
          "execution_count": 19,
          "metadata": {},
          "output_type": "execute_result"
        }
      ],
      "source": [
        "# Mediana\n",
        "datos.Cantidad.median()"
      ]
    },
    {
      "cell_type": "markdown",
      "metadata": {
        "id": "OclPRiP_4O6m"
      },
      "source": [
        "¿Cómo se interpreta esto?"
      ]
    },
    {
      "cell_type": "code",
      "execution_count": 20,
      "metadata": {
        "id": "mBZ2qTKK4T6P"
      },
      "outputs": [
        {
          "data": {
            "text/plain": [
              "5      7\n",
              "6      9\n",
              "3     12\n",
              "4     13\n",
              "0     14\n",
              "11    14\n",
              "9     16\n",
              "8     18\n",
              "10    18\n",
              "1     24\n",
              "2     31\n",
              "7     31\n",
              "Name: Cantidad, dtype: int64"
            ]
          },
          "metadata": {},
          "output_type": "display_data"
        }
      ],
      "source": [
        "temporal = datos.Cantidad.sort_values()\n",
        "display(temporal)"
      ]
    },
    {
      "cell_type": "markdown",
      "metadata": {
        "id": "ycB-zOtt4obf"
      },
      "source": [
        "La mitad de los datos están por debajo de la mediana."
      ]
    },
    {
      "cell_type": "markdown",
      "metadata": {
        "id": "J6mjLwwH4uV_"
      },
      "source": [
        "Juguemos un poco con grupos\n",
        "¿Entre Alaska y California, quién tiene las canastas más grandes en promedio?"
      ]
    },
    {
      "cell_type": "code",
      "execution_count": 125,
      "metadata": {
        "id": "2eI2S8bkHeI8"
      },
      "outputs": [
        {
          "data": {
            "text/plain": [
              "0      True\n",
              "1     False\n",
              "2     False\n",
              "3     False\n",
              "4     False\n",
              "5     False\n",
              "6      True\n",
              "7     False\n",
              "8     False\n",
              "9      True\n",
              "10    False\n",
              "11    False\n",
              "Name: Estado, dtype: bool"
            ]
          },
          "execution_count": 125,
          "metadata": {},
          "output_type": "execute_result"
        }
      ],
      "source": [
        "# Grupos\n",
        "# Condicion\n",
        "esDeAlaska = datos['Estado']=='Alaska'\n",
        "esDeCalifornia = datos['Estado']=='California'\n",
        "\n",
        "# ¿Cómo se ve esto?\n",
        "esDeAlaska"
      ]
    },
    {
      "cell_type": "code",
      "execution_count": 126,
      "metadata": {
        "id": "7b9XO6DZ5qsl"
      },
      "outputs": [
        {
          "data": {
            "text/plain": [
              "13.0"
            ]
          },
          "execution_count": 126,
          "metadata": {},
          "output_type": "execute_result"
        }
      ],
      "source": [
        "# Calculamos media para las filas que cumplen cada condición\n",
        "datos[esDeAlaska].Cantidad.mean()\n"
      ]
    },
    {
      "cell_type": "code",
      "execution_count": 127,
      "metadata": {
        "id": "WBX_QUaC59tC"
      },
      "outputs": [
        {
          "data": {
            "text/plain": [
              "18.333333333333332"
            ]
          },
          "execution_count": 127,
          "metadata": {},
          "output_type": "execute_result"
        }
      ],
      "source": [
        "# Calculamos media para las filas que cumplen cada condición\n",
        "datos[esDeCalifornia].Cantidad.mean()"
      ]
    },
    {
      "cell_type": "markdown",
      "metadata": {
        "id": "VlgRJeBWGMyI"
      },
      "source": [
        "## 4. Un caso de exploración"
      ]
    },
    {
      "cell_type": "code",
      "execution_count": 128,
      "metadata": {
        "id": "US15kpEaGTxq"
      },
      "outputs": [],
      "source": [
        "# Veamos otros datos\n",
        "sinProcesar = {'Consecutivo_hogar':[284,145,234,575,345,567,745,334,833,282,414,732],\n",
        "       'Municipio':['Bogota','Ibague','Bogota','Ibague','Bogota','Ibague','Bogota','Ibague','Bogota','Ibague','Bogota','Ibague'],\n",
        "       'Huella_carbono':[7,6,3,7,11,7,8,3,6,15,8,5],\n",
        "       'Mercado_promedio':[400000,560000,130000,360000,700000,827000,670000,315000,470000,930000,600000,370000],\n",
        "       'No_hijos':[0,1,0,1,3,0,0,1,0,0,2,1]}\n",
        "datosFamilias = pd.DataFrame(sinProcesar)"
      ]
    },
    {
      "cell_type": "code",
      "execution_count": 129,
      "metadata": {
        "id": "D9y-qD-0HaQK"
      },
      "outputs": [
        {
          "data": {
            "text/html": [
              "<div>\n",
              "<style scoped>\n",
              "    .dataframe tbody tr th:only-of-type {\n",
              "        vertical-align: middle;\n",
              "    }\n",
              "\n",
              "    .dataframe tbody tr th {\n",
              "        vertical-align: top;\n",
              "    }\n",
              "\n",
              "    .dataframe thead th {\n",
              "        text-align: right;\n",
              "    }\n",
              "</style>\n",
              "<table border=\"1\" class=\"dataframe\">\n",
              "  <thead>\n",
              "    <tr style=\"text-align: right;\">\n",
              "      <th></th>\n",
              "      <th>Consecutivo_hogar</th>\n",
              "      <th>Municipio</th>\n",
              "      <th>Huella_carbono</th>\n",
              "      <th>Mercado_promedio</th>\n",
              "      <th>No_hijos</th>\n",
              "    </tr>\n",
              "  </thead>\n",
              "  <tbody>\n",
              "    <tr>\n",
              "      <th>0</th>\n",
              "      <td>284</td>\n",
              "      <td>Bogota</td>\n",
              "      <td>7</td>\n",
              "      <td>400000</td>\n",
              "      <td>0</td>\n",
              "    </tr>\n",
              "    <tr>\n",
              "      <th>1</th>\n",
              "      <td>145</td>\n",
              "      <td>Ibague</td>\n",
              "      <td>6</td>\n",
              "      <td>560000</td>\n",
              "      <td>1</td>\n",
              "    </tr>\n",
              "    <tr>\n",
              "      <th>2</th>\n",
              "      <td>234</td>\n",
              "      <td>Bogota</td>\n",
              "      <td>3</td>\n",
              "      <td>130000</td>\n",
              "      <td>0</td>\n",
              "    </tr>\n",
              "    <tr>\n",
              "      <th>3</th>\n",
              "      <td>575</td>\n",
              "      <td>Ibague</td>\n",
              "      <td>7</td>\n",
              "      <td>360000</td>\n",
              "      <td>1</td>\n",
              "    </tr>\n",
              "    <tr>\n",
              "      <th>4</th>\n",
              "      <td>345</td>\n",
              "      <td>Bogota</td>\n",
              "      <td>11</td>\n",
              "      <td>700000</td>\n",
              "      <td>3</td>\n",
              "    </tr>\n",
              "    <tr>\n",
              "      <th>5</th>\n",
              "      <td>567</td>\n",
              "      <td>Ibague</td>\n",
              "      <td>7</td>\n",
              "      <td>827000</td>\n",
              "      <td>0</td>\n",
              "    </tr>\n",
              "    <tr>\n",
              "      <th>6</th>\n",
              "      <td>745</td>\n",
              "      <td>Bogota</td>\n",
              "      <td>8</td>\n",
              "      <td>670000</td>\n",
              "      <td>0</td>\n",
              "    </tr>\n",
              "    <tr>\n",
              "      <th>7</th>\n",
              "      <td>334</td>\n",
              "      <td>Ibague</td>\n",
              "      <td>3</td>\n",
              "      <td>315000</td>\n",
              "      <td>1</td>\n",
              "    </tr>\n",
              "    <tr>\n",
              "      <th>8</th>\n",
              "      <td>833</td>\n",
              "      <td>Bogota</td>\n",
              "      <td>6</td>\n",
              "      <td>470000</td>\n",
              "      <td>0</td>\n",
              "    </tr>\n",
              "    <tr>\n",
              "      <th>9</th>\n",
              "      <td>282</td>\n",
              "      <td>Ibague</td>\n",
              "      <td>15</td>\n",
              "      <td>930000</td>\n",
              "      <td>0</td>\n",
              "    </tr>\n",
              "    <tr>\n",
              "      <th>10</th>\n",
              "      <td>414</td>\n",
              "      <td>Bogota</td>\n",
              "      <td>8</td>\n",
              "      <td>600000</td>\n",
              "      <td>2</td>\n",
              "    </tr>\n",
              "    <tr>\n",
              "      <th>11</th>\n",
              "      <td>732</td>\n",
              "      <td>Ibague</td>\n",
              "      <td>5</td>\n",
              "      <td>370000</td>\n",
              "      <td>1</td>\n",
              "    </tr>\n",
              "  </tbody>\n",
              "</table>\n",
              "</div>"
            ],
            "text/plain": [
              "    Consecutivo_hogar Municipio  Huella_carbono  Mercado_promedio  No_hijos\n",
              "0                 284    Bogota               7            400000         0\n",
              "1                 145    Ibague               6            560000         1\n",
              "2                 234    Bogota               3            130000         0\n",
              "3                 575    Ibague               7            360000         1\n",
              "4                 345    Bogota              11            700000         3\n",
              "5                 567    Ibague               7            827000         0\n",
              "6                 745    Bogota               8            670000         0\n",
              "7                 334    Ibague               3            315000         1\n",
              "8                 833    Bogota               6            470000         0\n",
              "9                 282    Ibague              15            930000         0\n",
              "10                414    Bogota               8            600000         2\n",
              "11                732    Ibague               5            370000         1"
            ]
          },
          "metadata": {},
          "output_type": "display_data"
        }
      ],
      "source": [
        "display(datosFamilias)"
      ]
    },
    {
      "cell_type": "code",
      "execution_count": 130,
      "metadata": {
        "id": "RII2UGLLHbQJ"
      },
      "outputs": [],
      "source": [
        "# Campo abierto: qué ejercicios harían? Discutir"
      ]
    },
    {
      "cell_type": "markdown",
      "metadata": {
        "id": "HzyA55j39B6b"
      },
      "source": [
        "Planeen su propio análisis descriptivo individualmente.\n",
        "\n",
        "Tomemos 10 minutos y volvemos. Nos cuentan cuál es el plan.\n",
        "\n",
        "Si alcanzan a sacar estadísticas en 5 minutos más, nos cuentan.\n",
        "\n",
        "Recuerden\n",
        "1. Entender la unidad de observación. Cada fila es un...\n",
        "2. ¿Qué columnas tenemos?\n",
        "3. ¿Qué columnas son objeto de análisis? (escoja una de interés)\n",
        "4. ¿Qué columnas nos definen grupos interesantes? (escoja una)\n",
        "5. ¿Qué estadísticos podemos sacarle a esos grupos? (saque alguno o un par)\n",
        "\n",
        "No hay forma correcta de explorar, depende de la curiosidad de cada quién."
      ]
    }
  ],
  "metadata": {
    "colab": {
      "collapsed_sections": [
        "fyVRmgndDkB0",
        "SEsFnTinF02E",
        "Bz2hyCHRGMhq",
        "VlgRJeBWGMyI"
      ],
      "provenance": []
    },
    "kernelspec": {
      "display_name": "Python 3",
      "name": "python3"
    },
    "language_info": {
      "codemirror_mode": {
        "name": "ipython",
        "version": 3
      },
      "file_extension": ".py",
      "mimetype": "text/x-python",
      "name": "python",
      "nbconvert_exporter": "python",
      "pygments_lexer": "ipython3",
      "version": "3.11.3"
    }
  },
  "nbformat": 4,
  "nbformat_minor": 0
}
