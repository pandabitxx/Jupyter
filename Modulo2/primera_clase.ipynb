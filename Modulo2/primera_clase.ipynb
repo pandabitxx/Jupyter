{
 "cells": [
  {
   "attachments": {},
   "cell_type": "markdown",
   "metadata": {},
   "source": [
    "Definiendo una funcion sin parametros "
   ]
  },
  {
   "cell_type": "code",
   "execution_count": 21,
   "metadata": {},
   "outputs": [
    {
     "name": "stdout",
     "output_type": "stream",
     "text": [
      "18.0\n"
     ]
    }
   ],
   "source": [
    "#Solicita al usuario dos numeros y los divide\n",
    "def suma_de_numeros():\n",
    "    A = float(input('Ingrese el primer numero: '))\n",
    "    B = float(input('Ingrese el segundo numero: '))\n",
    "    C = A + B\n",
    "    print(C)\n",
    "\n",
    "suma_de_numeros()"
   ]
  },
  {
   "cell_type": "code",
   "execution_count": 37,
   "metadata": {},
   "outputs": [
    {
     "data": {
      "text/plain": [
       "7.0"
      ]
     },
     "execution_count": 37,
     "metadata": {},
     "output_type": "execute_result"
    }
   ],
   "source": [
    "def division_de_numeros():\n",
    "    num_1 = float(input('Ingrese el primer numero: '))\n",
    "    num_2 = float(input('Ingrese el segundo numero: '))\n",
    "    division = num_1 / num_2\n",
    "    return(division)\n",
    "\n",
    "division_de_numeros()"
   ]
  },
  {
   "cell_type": "code",
   "execution_count": 55,
   "metadata": {},
   "outputs": [
    {
     "name": "stdout",
     "output_type": "stream",
     "text": [
      "El numero es: 4.0 tu numero es par\n"
     ]
    }
   ],
   "source": [
    "def division_de_numeros(num_1,num_2):\n",
    "    division = num_1 / num_2\n",
    "    return division\n",
    "\n",
    "A = float(input('Ingrese el primer numero: '))\n",
    "B = float(input('Ingrese el segundo numero: '))\n",
    "\n",
    "total = division_de_numeros(A,B)\n",
    "\n",
    "#print('El numero es:', total)\n",
    "#print('El numero es: '+str(total)+' es un buen numero')\n",
    "\n",
    "if total % 2 == 0:\n",
    "    print('El numero es: '+str(total)+' tu numero es par')\n",
    "else:\n",
    "    print('El numero es: '+str(total)+' tu numero es impar')\n",
    "\n",
    "\n"
   ]
  },
  {
   "cell_type": "code",
   "execution_count": 15,
   "metadata": {},
   "outputs": [
    {
     "name": "stdout",
     "output_type": "stream",
     "text": [
      "El área del círculo es: 78.53975\n"
     ]
    }
   ],
   "source": [
    "def calcular_area_circulo(radio):\n",
    "    pi = 3.14159\n",
    "    area = pi * radio ** 2\n",
    "    return area\n",
    "\n",
    "radio = 5\n",
    "area = calcular_area_circulo(radio)\n",
    "print(\"El área del círculo es:\", area)"
   ]
  },
  {
   "cell_type": "code",
   "execution_count": 18,
   "metadata": {},
   "outputs": [
    {
     "name": "stdout",
     "output_type": "stream",
     "text": [
      "Hola, Juan\n"
     ]
    }
   ],
   "source": [
    "def saludar(nombre):\n",
    "    print(\"Hola,\", nombre)\n",
    "\n",
    "saludar(\"Juan\")"
   ]
  },
  {
   "cell_type": "code",
   "execution_count": 19,
   "metadata": {},
   "outputs": [
    {
     "name": "stdout",
     "output_type": "stream",
     "text": [
      "5\n"
     ]
    }
   ],
   "source": [
    "def sumar(a, b):\n",
    "    resultado = a + b\n",
    "    return resultado\n",
    "\n",
    "suma = sumar(2, 3)\n",
    "print(suma)"
   ]
  }
 ],
 "metadata": {
  "kernelspec": {
   "display_name": "Python 3",
   "language": "python",
   "name": "python3"
  },
  "language_info": {
   "codemirror_mode": {
    "name": "ipython",
    "version": 3
   },
   "file_extension": ".py",
   "mimetype": "text/x-python",
   "name": "python",
   "nbconvert_exporter": "python",
   "pygments_lexer": "ipython3",
   "version": "3.11.3"
  },
  "orig_nbformat": 4
 },
 "nbformat": 4,
 "nbformat_minor": 2
}
