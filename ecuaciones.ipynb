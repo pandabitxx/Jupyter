import sympy as sp

# Definir las variables del sistema de ecuaciones
x, y, z = sp.symbols('x y z')

# Definir las ecuaciones del sistema de ecuaciones
eq1 = sp.Eq(2*x + 3*y - z, 1)
eq2 = sp.Eq(x - y + 2*z, 3)
eq3 = sp.Eq(3*x + 2*y + z, -1)

# Resolver el sistema de ecuaciones
sol = sp.solve((eq1, eq2, eq3), (x, y, z))

# Imprimir las soluciones del sistema de ecuaciones
print(sol)