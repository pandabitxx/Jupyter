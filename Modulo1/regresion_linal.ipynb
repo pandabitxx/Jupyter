{
 "cells": [
  {
   "cell_type": "code",
   "execution_count": null,
   "metadata": {},
   "outputs": [],
   "source": [
    "import pandas as pd\n",
    "from sklearn.linear_model import LinearRegression\n",
    "\n",
    "# Cargar los datos de ventas en un DataFrame de pandas\n",
    "data = pd.read_csv('datos_de_ventas.csv')\n",
    "\n",
    "# Seleccionar solo los datos correspondientes a los martes de 8 a 9\n",
    "filtro = (data['dia_de_la_semana'] == 'martes') & (data['hora'] == '8-9')\n",
    "datos_entrenamiento = data.loc[filtro]\n",
    "\n",
    "# Extraer las características (variables predictoras) y las etiquetas (ventas) de los datos de entrenamiento\n",
    "X_train = datos_entrenamiento[['caracteristica_1', 'caracteristica_2', ...]]\n",
    "y_train = datos_entrenamiento['ventas']\n",
    "\n",
    "# Crear un objeto de regresión lineal\n",
    "reg = LinearRegression()\n",
    "\n",
    "# Ajustar el modelo a los datos de entrenamiento\n",
    "reg.fit(X_train, y_train)\n",
    "\n",
    "# Hacer una predicción para la próxima franja horaria de martes de 8 a 9\n",
    "X_test = pd.DataFrame([[valor_caracteristica_1, valor_caracteristica_2, ...]])\n",
    "y_pred = reg.predict(X_test)\n",
    "\n",
    "print(y_pred)  # Imprime la predicción de ventas para la próxima franja horaria"
   ]
  }
 ],
 "metadata": {
  "language_info": {
   "name": "python"
  },
  "orig_nbformat": 4
 },
 "nbformat": 4,
 "nbformat_minor": 2
}
