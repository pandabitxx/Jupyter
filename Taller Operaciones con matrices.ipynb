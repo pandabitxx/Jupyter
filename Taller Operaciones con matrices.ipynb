{
 "cells": [
  {
   "cell_type": "markdown",
   "metadata": {},
   "source": [
    "## Universidad de los Andes\n",
    "### Operaciones con matrices"
   ]
  },
  {
   "cell_type": "code",
   "execution_count": 2,
   "metadata": {},
   "outputs": [],
   "source": [
    "from sympy import *\n",
    "init_printing()"
   ]
  },
  {
   "cell_type": "code",
   "execution_count": 3,
   "metadata": {},
   "outputs": [],
   "source": [
    "###Consideremos las siguientes matrices y vectores\n",
    "A = Matrix([[1,-2,3],[-4,5,-6],[7,-8,9]])\n",
    "B = Matrix([[1,1,1],[1,2,2],[1,2,3]])\n",
    "C = Matrix([[2,3],[4,1],[2,-1]])\n",
    "D = Matrix([[2,1,1],[1,1,2]])\n",
    "E = Matrix([[2,-1],[2,2]])\n",
    "F = Matrix([[4,3],[2,1]])\n",
    "\n",
    "w = Matrix([[2,3,-1]])\n",
    "v = Matrix(([[1],[-1],[3]]))\n",
    "x = Matrix([[1,-1]])\n",
    "y = Matrix(([[2],[-1]]))"
   ]
  },
  {
   "cell_type": "code",
   "execution_count": 4,
   "metadata": {},
   "outputs": [
    {
     "data": {
      "text/latex": [
       "$\\displaystyle \\left( \\left[\\begin{matrix}1 & -2 & 3\\\\-4 & 5 & -6\\\\7 & -8 & 9\\end{matrix}\\right], \\  \\left[\\begin{matrix}1 & 1 & 1\\\\1 & 2 & 2\\\\1 & 2 & 3\\end{matrix}\\right], \\  \\left[\\begin{matrix}2 & 3\\\\4 & 1\\\\2 & -1\\end{matrix}\\right], \\  \\left[\\begin{matrix}2 & 1 & 1\\\\1 & 1 & 2\\end{matrix}\\right], \\  \\left[\\begin{matrix}2 & -1\\\\2 & 2\\end{matrix}\\right], \\  \\left[\\begin{matrix}4 & 3\\\\2 & 1\\end{matrix}\\right]\\right)$"
      ],
      "text/plain": [
       "⎛⎡1   -2  3 ⎤  ⎡1  1  1⎤  ⎡2  3 ⎤                            ⎞\n",
       "⎜⎢          ⎥  ⎢       ⎥  ⎢     ⎥  ⎡2  1  1⎤  ⎡2  -1⎤  ⎡4  3⎤⎟\n",
       "⎜⎢-4  5   -6⎥, ⎢1  2  2⎥, ⎢4  1 ⎥, ⎢       ⎥, ⎢     ⎥, ⎢    ⎥⎟\n",
       "⎜⎢          ⎥  ⎢       ⎥  ⎢     ⎥  ⎣1  1  2⎦  ⎣2  2 ⎦  ⎣2  1⎦⎟\n",
       "⎝⎣7   -8  9 ⎦  ⎣1  2  3⎦  ⎣2  -1⎦                            ⎠"
      ]
     },
     "execution_count": 4,
     "metadata": {},
     "output_type": "execute_result"
    }
   ],
   "source": [
    "A,B,C,D,E,F"
   ]
  },
  {
   "cell_type": "code",
   "execution_count": 5,
   "metadata": {
    "scrolled": true
   },
   "outputs": [
    {
     "data": {
      "text/latex": [
       "$\\displaystyle \\left( \\left[\\begin{matrix}2 & 3 & -1\\end{matrix}\\right], \\  \\left[\\begin{matrix}1\\\\-1\\\\3\\end{matrix}\\right], \\  \\left[\\begin{matrix}1 & -1\\end{matrix}\\right], \\  \\left[\\begin{matrix}2\\\\-1\\end{matrix}\\right]\\right)$"
      ],
      "text/plain": [
       "⎛            ⎡1 ⎤               ⎞\n",
       "⎜            ⎢  ⎥           ⎡2 ⎤⎟\n",
       "⎜[2  3  -1], ⎢-1⎥, [1  -1], ⎢  ⎥⎟\n",
       "⎜            ⎢  ⎥           ⎣-1⎦⎟\n",
       "⎝            ⎣3 ⎦               ⎠"
      ]
     },
     "execution_count": 5,
     "metadata": {},
     "output_type": "execute_result"
    }
   ],
   "source": [
    "w,v,x,y"
   ]
  },
  {
   "cell_type": "markdown",
   "metadata": {},
   "source": [
    "### Primer punto. Hallar :"
   ]
  },
  {
   "cell_type": "markdown",
   "metadata": {},
   "source": [
    "\n",
    "**a) 3A -2B**"
   ]
  },
  {
   "cell_type": "code",
   "execution_count": 6,
   "metadata": {},
   "outputs": [
    {
     "data": {
      "text/latex": [
       "$\\displaystyle \\left[\\begin{matrix}1 & -8 & 7\\\\-14 & 11 & -22\\\\19 & -28 & 21\\end{matrix}\\right]$"
      ],
      "text/plain": [
       "⎡ 1   -8    7 ⎤\n",
       "⎢             ⎥\n",
       "⎢-14  11   -22⎥\n",
       "⎢             ⎥\n",
       "⎣19   -28  21 ⎦"
      ]
     },
     "execution_count": 6,
     "metadata": {},
     "output_type": "execute_result"
    }
   ],
   "source": [
    "3*A-2*B"
   ]
  },
  {
   "cell_type": "markdown",
   "metadata": {},
   "source": [
    "**b) AB + CD**"
   ]
  },
  {
   "cell_type": "code",
   "execution_count": 17,
   "metadata": {},
   "outputs": [
    {
     "data": {
      "text/latex": [
       "$\\displaystyle \\left[\\begin{matrix}9 & 8 & 14\\\\4 & -1 & -6\\\\11 & 10 & 18\\end{matrix}\\right]$"
      ],
      "text/plain": [
       "⎡9   8   14⎤\n",
       "⎢          ⎥\n",
       "⎢4   -1  -6⎥\n",
       "⎢          ⎥\n",
       "⎣11  10  18⎦"
      ]
     },
     "execution_count": 17,
     "metadata": {},
     "output_type": "execute_result"
    }
   ],
   "source": [
    "(A*B) + (C*D)"
   ]
  },
  {
   "cell_type": "markdown",
   "metadata": {},
   "source": [
    "**c) DBA**"
   ]
  },
  {
   "cell_type": "code",
   "execution_count": 8,
   "metadata": {
    "scrolled": true
   },
   "outputs": [
    {
     "data": {
      "text/latex": [
       "$\\displaystyle \\left[\\begin{matrix}29 & -34 & 39\\\\39 & -45 & 51\\end{matrix}\\right]$"
      ],
      "text/plain": [
       "⎡29  -34  39⎤\n",
       "⎢           ⎥\n",
       "⎣39  -45  51⎦"
      ]
     },
     "execution_count": 8,
     "metadata": {},
     "output_type": "execute_result"
    }
   ],
   "source": [
    "D*B*A"
   ]
  },
  {
   "cell_type": "markdown",
   "metadata": {},
   "source": [
    "**d)wABv**"
   ]
  },
  {
   "cell_type": "code",
   "execution_count": 9,
   "metadata": {},
   "outputs": [
    {
     "data": {
      "text/latex": [
       "$\\displaystyle \\left[\\begin{matrix}-124\\end{matrix}\\right]$"
      ],
      "text/plain": [
       "[-124]"
      ]
     },
     "execution_count": 9,
     "metadata": {},
     "output_type": "execute_result"
    }
   ],
   "source": [
    "w*A*B*v"
   ]
  },
  {
   "cell_type": "markdown",
   "metadata": {},
   "source": [
    "**e) (Columna 1 de A x la Fila 2 de B) + BA**"
   ]
  },
  {
   "cell_type": "code",
   "execution_count": 10,
   "metadata": {},
   "outputs": [
    {
     "data": {
      "text/latex": [
       "$\\displaystyle \\left[\\begin{matrix}5 & -3 & 8\\\\3 & -16 & 1\\\\21 & -2 & 32\\end{matrix}\\right]$"
      ],
      "text/plain": [
       "⎡5   -3   8 ⎤\n",
       "⎢           ⎥\n",
       "⎢3   -16  1 ⎥\n",
       "⎢           ⎥\n",
       "⎣21  -2   32⎦"
      ]
     },
     "execution_count": 10,
     "metadata": {},
     "output_type": "execute_result"
    }
   ],
   "source": [
    "(A[:,0])*(B[1,:])+(B*A)"
   ]
  },
  {
   "cell_type": "code",
   "execution_count": 11,
   "metadata": {},
   "outputs": [
    {
     "data": {
      "text/latex": [
       "$\\displaystyle \\left[\\begin{matrix}1 & -2 & 3\\\\-4 & 5 & -6\\\\7 & -8 & 9\\end{matrix}\\right]$"
      ],
      "text/plain": [
       "⎡1   -2  3 ⎤\n",
       "⎢          ⎥\n",
       "⎢-4  5   -6⎥\n",
       "⎢          ⎥\n",
       "⎣7   -8  9 ⎦"
      ]
     },
     "execution_count": 11,
     "metadata": {},
     "output_type": "execute_result"
    }
   ],
   "source": [
    "A"
   ]
  },
  {
   "cell_type": "code",
   "execution_count": 12,
   "metadata": {},
   "outputs": [
    {
     "data": {
      "text/latex": [
       "$\\displaystyle \\left[\\begin{matrix}5 & -6\\end{matrix}\\right]$"
      ],
      "text/plain": [
       "[5  -6]"
      ]
     },
     "execution_count": 12,
     "metadata": {},
     "output_type": "execute_result"
    }
   ],
   "source": [
    "A[1,1:3]"
   ]
  },
  {
   "cell_type": "markdown",
   "metadata": {},
   "source": [
    "**f) Av**"
   ]
  },
  {
   "cell_type": "code",
   "execution_count": 13,
   "metadata": {},
   "outputs": [
    {
     "data": {
      "text/latex": [
       "$\\displaystyle \\left[\\begin{matrix}12\\\\-27\\\\42\\end{matrix}\\right]$"
      ],
      "text/plain": [
       "⎡12 ⎤\n",
       "⎢   ⎥\n",
       "⎢-27⎥\n",
       "⎢   ⎥\n",
       "⎣42 ⎦"
      ]
     },
     "execution_count": 13,
     "metadata": {},
     "output_type": "execute_result"
    }
   ],
   "source": [
    "A*v"
   ]
  },
  {
   "cell_type": "markdown",
   "metadata": {},
   "source": [
    "**g) (Posicion 1 del vector v x Columna 1 de la matriz A) + (Posicion 2 del vector v x Columna 2 de la matriz A) + (Posicion 3 del vector v x Columna 3 de la matriz A)**"
   ]
  },
  {
   "cell_type": "code",
   "execution_count": 14,
   "metadata": {
    "scrolled": true
   },
   "outputs": [
    {
     "data": {
      "text/latex": [
       "$\\displaystyle \\left[\\begin{matrix}12\\\\-27\\\\42\\end{matrix}\\right]$"
      ],
      "text/plain": [
       "⎡12 ⎤\n",
       "⎢   ⎥\n",
       "⎢-27⎥\n",
       "⎢   ⎥\n",
       "⎣42 ⎦"
      ]
     },
     "execution_count": 14,
     "metadata": {},
     "output_type": "execute_result"
    }
   ],
   "source": [
    "(v[0]*A[:,0])+(v[1]*A[:,1])+(v[2]*A[:,2])"
   ]
  },
  {
   "cell_type": "markdown",
   "metadata": {},
   "source": [
    "**h) B^(4) + (CD)^3**"
   ]
  },
  {
   "cell_type": "code",
   "execution_count": 15,
   "metadata": {},
   "outputs": [
    {
     "data": {
      "text/latex": [
       "$\\displaystyle \\left[\\begin{matrix}1766 & 1142 & 1509\\\\1998 & 1339 & 1747\\\\637 & 563 & 713\\end{matrix}\\right]$"
      ],
      "text/plain": [
       "⎡1766  1142  1509⎤\n",
       "⎢                ⎥\n",
       "⎢1998  1339  1747⎥\n",
       "⎢                ⎥\n",
       "⎣637   563   713 ⎦"
      ]
     },
     "execution_count": 15,
     "metadata": {},
     "output_type": "execute_result"
    }
   ],
   "source": [
    "(B**(4))+((C*D)**(3))"
   ]
  },
  {
   "cell_type": "markdown",
   "metadata": {},
   "source": [
    "**i) xEDABCFy**"
   ]
  },
  {
   "cell_type": "code",
   "execution_count": 16,
   "metadata": {},
   "outputs": [
    {
     "data": {
      "text/latex": [
       "$\\displaystyle \\left[\\begin{matrix}-2406\\end{matrix}\\right]$"
      ],
      "text/plain": [
       "[-2406]"
      ]
     },
     "execution_count": 16,
     "metadata": {},
     "output_type": "execute_result"
    }
   ],
   "source": [
    "x*E*D*A*B*C*F*y"
   ]
  },
  {
   "cell_type": "code",
   "execution_count": 24,
   "metadata": {},
   "outputs": [
    {
     "name": "stdout",
     "output_type": "stream",
     "text": [
      "80\n"
     ]
    }
   ],
   "source": [
    "mm = Matrix([4, 6, 7, 2, 1])\n",
    "ww = Matrix([4, 5, 3, 2, 9])\n",
    "\n",
    "producto_punto = ww.dot(mm)\n",
    "print(producto_punto) "
   ]
  },
  {
   "cell_type": "code",
   "execution_count": 28,
   "metadata": {},
   "outputs": [
    {
     "name": "stdout",
     "output_type": "stream",
     "text": [
      "67\n"
     ]
    }
   ],
   "source": [
    "m1 = Matrix([4, 6, 7, 2, 1])\n",
    "w1 = Matrix([4, 5, 3, 0, 0]) #Se adicionan ceros para poder realizar el prducto punto. \n",
    "\n",
    "producto_punto = m1.dot(w1)\n",
    "print(producto_punto) "
   ]
  },
  {
   "cell_type": "code",
   "execution_count": null,
   "metadata": {},
   "outputs": [],
   "source": []
  }
 ],
 "metadata": {
  "kernelspec": {
   "display_name": "Python 3",
   "language": "python",
   "name": "python3"
  },
  "language_info": {
   "codemirror_mode": {
    "name": "ipython",
    "version": 3
   },
   "file_extension": ".py",
   "mimetype": "text/x-python",
   "name": "python",
   "nbconvert_exporter": "python",
   "pygments_lexer": "ipython3",
   "version": "3.11.3"
  }
 },
 "nbformat": 4,
 "nbformat_minor": 4
}
